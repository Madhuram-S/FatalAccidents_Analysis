{
 "cells": [
  {
   "cell_type": "code",
   "execution_count": 2,
   "metadata": {},
   "outputs": [],
   "source": [
    "%matplotlib inline"
   ]
  },
  {
   "cell_type": "code",
   "execution_count": 29,
   "metadata": {},
   "outputs": [],
   "source": [
    "import pandas as pd\n",
    "import glob\n",
    "import numpy as np\n",
    "from datetime import datetime\n",
    "\n",
    "from zipfile import ZipFile as ZF\n",
    "import os\n",
    "\n",
    "import matplotlib.pyplot as plt\n",
    "import matplotlib as mpl\n",
    "import seaborn as sns\n",
    "from matplotlib.widgets import Slider, Button, RadioButtons\n",
    "\n",
    "from spread import variance, standard_deviation, zipped_z_scores\n",
    "from stats import mean\n",
    "from scipy import stats"
   ]
  },
  {
   "cell_type": "code",
   "execution_count": 4,
   "metadata": {},
   "outputs": [],
   "source": [
    "data_dir = \"../data/_rawdata\"\n",
    "lookup_path = \"../data/_rawdata/lookup\"\n",
    "lookup_file = \"DEFS2009.xls\"\n",
    "images_dir = \"../images\""
   ]
  },
  {
   "cell_type": "code",
   "execution_count": 5,
   "metadata": {},
   "outputs": [],
   "source": [
    "accident_DF = pd.DataFrame()\n",
    "accident_aux_DF = pd.DataFrame()\n"
   ]
  },
  {
   "cell_type": "code",
   "execution_count": 6,
   "metadata": {},
   "outputs": [
    {
     "data": {
      "text/plain": [
       "Index(['STATE', 'ST_CASE', 'VE_TOTAL', 'VE_FORMS', 'PVH_INVL', 'PEDS',\n",
       "       'PERNOTMVIT', 'PERMVIT', 'PERSONS', 'COUNTY', 'CITY', 'DAY', 'MONTH',\n",
       "       'YEAR', 'DAY_WEEK', 'HOUR', 'MINUTE', 'NHS', 'RUR_URB', 'FUNC_SYS',\n",
       "       'RD_OWNER', 'ROUTE', 'TWAY_ID', 'TWAY_ID2', 'MILEPT', 'LATITUDE',\n",
       "       'LONGITUD', 'SP_JUR', 'HARM_EV', 'MAN_COLL', 'RELJCT1', 'RELJCT2',\n",
       "       'TYP_INT', 'WRK_ZONE', 'REL_ROAD', 'LGT_COND', 'WEATHER1', 'WEATHER2',\n",
       "       'WEATHER', 'SCH_BUS', 'RAIL', 'NOT_HOUR', 'NOT_MIN', 'ARR_HOUR',\n",
       "       'ARR_MIN', 'HOSP_HR', 'HOSP_MN', 'CF1', 'CF2', 'CF3', 'FATALS',\n",
       "       'DRUNK_DR'],\n",
       "      dtype='object')"
      ]
     },
     "execution_count": 6,
     "metadata": {},
     "output_type": "execute_result"
    }
   ],
   "source": [
    "accident_DF = pd.read_csv(os.path.join(data_dir, \"accident_allyears.csv\"))\n",
    "accident_DF.columns"
   ]
  },
  {
   "cell_type": "code",
   "execution_count": 7,
   "metadata": {},
   "outputs": [],
   "source": [
    "accident_aux_DF = pd.read_csv(os.path.join(data_dir, \"accident_aux_allyears.csv\"))"
   ]
  },
  {
   "cell_type": "code",
   "execution_count": 8,
   "metadata": {},
   "outputs": [],
   "source": [
    "# Read Lookup data into lookup dataframe for HOUR, MINUTE and DAY_WEEK\n",
    "hour_DF = pd.read_excel(os.path.join(lookup_path, lookup_file), \"HOUR\")\n",
    "# Rename column ID to HOUR and DEF to HOUR_DEF\n",
    "hour_DF.rename(columns = {\"ID\" : \"HOUR\",\"Def\" : \"HOUR_DEF\" }, inplace = True)\n",
    "\n",
    "min_DF = pd.read_excel(os.path.join(lookup_path, lookup_file), \"MINUTE\")\n",
    "# Rename column ID to HOUR and DEF to HOUR_DEF\n",
    "min_DF.rename(columns = {\"ID\" : \"MINUTE\",\"DEF\" : \"MINUTE_DEF\" }, inplace = True)\n",
    "\n",
    "day_week_DF = pd.read_excel(os.path.join(lookup_path, lookup_file), \"DAY_WEEK\")\n",
    "# Rename column ID to HOUR and DEF to HOUR_DEF\n",
    "day_week_DF.rename(columns = {\"ID\" : \"DAY_WEEK\",\"Def\" : \"DAY_WEEK_DEF\" }, inplace = True)"
   ]
  },
  {
   "cell_type": "code",
   "execution_count": 9,
   "metadata": {},
   "outputs": [
    {
     "data": {
      "text/plain": [
       "0   2015-01-01\n",
       "1   2015-01-01\n",
       "2   2015-01-01\n",
       "3   2015-01-04\n",
       "4   2015-01-07\n",
       "Name: ACC_DATE, dtype: datetime64[ns]"
      ]
     },
     "execution_count": 9,
     "metadata": {},
     "output_type": "execute_result"
    }
   ],
   "source": [
    "accident_DF['ACC_DATE'] = accident_DF['YEAR'].astype(str) + \\\n",
    "                            \"-\"+accident_DF['MONTH'].astype(str) + \\\n",
    "                            \"-\"+accident_DF['DAY'].astype(str)\n",
    "accident_DF[\"ACC_DATE\"] = accident_DF[\"ACC_DATE\"].apply(lambda r: datetime.strptime(r , '%Y-%m-%d'))\n",
    "\n",
    "accident_DF['ACC_DATE'].head()"
   ]
  },
  {
   "cell_type": "code",
   "execution_count": 10,
   "metadata": {},
   "outputs": [
    {
     "data": {
      "text/plain": [
       "11"
      ]
     },
     "execution_count": 10,
     "metadata": {},
     "output_type": "execute_result"
    }
   ],
   "source": [
    "accident_DF['ACC_DATE'][100].week"
   ]
  },
  {
   "cell_type": "code",
   "execution_count": 11,
   "metadata": {},
   "outputs": [
    {
     "data": {
      "text/plain": [
       "array([ 1,  2,  3,  4,  5,  6,  7,  8,  9, 10, 11, 12, 14, 13, 15, 16, 17,\n",
       "       18, 19, 21, 20, 22, 23, 24, 25, 26, 27, 28, 31, 30, 29, 32, 33, 34,\n",
       "       35, 36, 37, 38, 39, 40, 41, 42, 43, 44, 45, 46, 47, 48, 50, 49, 51,\n",
       "       52, 53], dtype=int64)"
      ]
     },
     "execution_count": 11,
     "metadata": {},
     "output_type": "execute_result"
    }
   ],
   "source": [
    "accident_DF[\"ACC_WEEK_NUM\"] = accident_DF[\"ACC_DATE\"].apply(lambda r : r.week)\n",
    "accident_DF[\"ACC_WEEK_NUM\"].unique()"
   ]
  },
  {
   "cell_type": "code",
   "execution_count": 12,
   "metadata": {},
   "outputs": [
    {
     "data": {
      "text/html": [
       "<div>\n",
       "<style scoped>\n",
       "    .dataframe tbody tr th:only-of-type {\n",
       "        vertical-align: middle;\n",
       "    }\n",
       "\n",
       "    .dataframe tbody tr th {\n",
       "        vertical-align: top;\n",
       "    }\n",
       "\n",
       "    .dataframe thead th {\n",
       "        text-align: right;\n",
       "    }\n",
       "</style>\n",
       "<table border=\"1\" class=\"dataframe\">\n",
       "  <thead>\n",
       "    <tr style=\"text-align: right;\">\n",
       "      <th></th>\n",
       "      <th>YEAR</th>\n",
       "      <th>MONTH</th>\n",
       "      <th>FATALS</th>\n",
       "    </tr>\n",
       "  </thead>\n",
       "  <tbody>\n",
       "    <tr>\n",
       "      <th>0</th>\n",
       "      <td>2015</td>\n",
       "      <td>1</td>\n",
       "      <td>2577</td>\n",
       "    </tr>\n",
       "    <tr>\n",
       "      <th>1</th>\n",
       "      <td>2015</td>\n",
       "      <td>2</td>\n",
       "      <td>2168</td>\n",
       "    </tr>\n",
       "    <tr>\n",
       "      <th>2</th>\n",
       "      <td>2015</td>\n",
       "      <td>3</td>\n",
       "      <td>2625</td>\n",
       "    </tr>\n",
       "    <tr>\n",
       "      <th>3</th>\n",
       "      <td>2015</td>\n",
       "      <td>4</td>\n",
       "      <td>2652</td>\n",
       "    </tr>\n",
       "    <tr>\n",
       "      <th>4</th>\n",
       "      <td>2015</td>\n",
       "      <td>5</td>\n",
       "      <td>3136</td>\n",
       "    </tr>\n",
       "  </tbody>\n",
       "</table>\n",
       "</div>"
      ],
      "text/plain": [
       "   YEAR  MONTH  FATALS\n",
       "0  2015      1    2577\n",
       "1  2015      2    2168\n",
       "2  2015      3    2625\n",
       "3  2015      4    2652\n",
       "4  2015      5    3136"
      ]
     },
     "execution_count": 12,
     "metadata": {},
     "output_type": "execute_result"
    }
   ],
   "source": [
    "# Calculate Fatal accidents by month-year\n",
    "ft_byMnth_Yr = accident_DF[[\"MONTH\",\"YEAR\",\"FATALS\"]].groupby([\"YEAR\",\"MONTH\"]).agg(np.sum)\n",
    "ft_byMnth_Yr.reset_index(inplace = True)\n",
    "ft_byMnth_Yr.head()"
   ]
  },
  {
   "cell_type": "code",
   "execution_count": 13,
   "metadata": {},
   "outputs": [],
   "source": [
    "ft_2015 = ft_byMnth_Yr[ft_byMnth_Yr.YEAR == 2015]\n",
    "ft_2016 = ft_byMnth_Yr[ft_byMnth_Yr.YEAR == 2016]\n",
    "ft_2017 = ft_byMnth_Yr[ft_byMnth_Yr.YEAR == 2017]"
   ]
  },
  {
   "cell_type": "code",
   "execution_count": 30,
   "metadata": {},
   "outputs": [
    {
     "name": "stdout",
     "output_type": "stream",
     "text": [
      "STD DEV for FY2015 is 352.75676227867456\n",
      "STD DEV for FY2016 is 297.893297451733\n",
      "STD DEV for FY2017 is 253.8777456222231\n",
      "Mean for FY2015 is 2957.0\n",
      "Mean for FY2016 is 3150.5\n",
      "mean for FY2017 is 3094.4166666666665\n"
     ]
    }
   ],
   "source": [
    "#Std dev for all years\n",
    "\n",
    "print(f\"STD DEV for FY2015 is {standard_deviation(ft_2015.FATALS)}\")\n",
    "print(f\"STD DEV for FY2016 is {standard_deviation(ft_2016.FATALS)}\")\n",
    "print(f\"STD DEV for FY2017 is {standard_deviation(ft_2017.FATALS)}\")\n",
    "\n",
    "print(f\"Mean for FY2015 is {mean(ft_2015.FATALS)}\")\n",
    "print(f\"Mean for FY2016 is {mean(ft_2016.FATALS)}\")\n",
    "print(f\"mean for FY2017 is {mean(ft_2017.FATALS)}\")\n",
    "\n"
   ]
  },
  {
   "cell_type": "code",
   "execution_count": 23,
   "metadata": {},
   "outputs": [
    {
     "name": "stdout",
     "output_type": "stream",
     "text": [
      "t-statistics is -1.389973034071443.\n",
      "p-value is 0.17882783685290132.\n"
     ]
    }
   ],
   "source": [
    "# perform independent t-test for 2015 and 2016\n",
    "#equal_var = False means Welch T-Test - does not assume equal population variances\n",
    "(t_stat_15_16, p_15_16) = stats.ttest_ind(ft_2015.FATALS, ft_2016.FATALS, equal_var=False)\n",
    "print(\"t-statistics is {}.\".format(t_stat_15_16))\n",
    "print(\"p-value is {}.\".format(p_15_16))"
   ]
  },
  {
   "cell_type": "code",
   "execution_count": 25,
   "metadata": {},
   "outputs": [
    {
     "data": {
      "text/plain": [
       "F_onewayResult(statistic=1.1781441582808594, pvalue=0.3204645589897718)"
      ]
     },
     "execution_count": 25,
     "metadata": {},
     "output_type": "execute_result"
    }
   ],
   "source": [
    "stats.f_oneway(ft_2015.FATALS, ft_2016.FATALS, ft_2017.FATALS)"
   ]
  },
  {
   "cell_type": "code",
   "execution_count": 26,
   "metadata": {},
   "outputs": [
    {
     "name": "stderr",
     "output_type": "stream",
     "text": [
      "E:\\Anaconda3\\lib\\site-packages\\scipy\\stats\\stats.py:1713: FutureWarning: Using a non-tuple sequence for multidimensional indexing is deprecated; use `arr[tuple(seq)]` instead of `arr[seq]`. In the future this will be interpreted as an array index, `arr[np.array(seq)]`, which will result either in an error or a different result.\n",
      "  return np.add.reduce(sorted[indexer] * weights, axis=axis) / sumval\n"
     ]
    },
    {
     "data": {
      "image/png": "[encoded data removed]",
      "text/plain": [
       "<Figure size 648x504 with 1 Axes>"
      ]
     },
     "metadata": {
      "needs_background": "light"
     },
     "output_type": "display_data"
    }
   ],
   "source": [
    "#plot a dist plot \n",
    "fig, ax = plt.subplots(figsize = (9,7))\n",
    "\n",
    "sns.distplot(ft_byMnth_Yr[ft_byMnth_Yr.YEAR == 2015].FATALS, bins = 3, ax = ax, hist = False, rug = True, label = \"2015\")\n",
    "sns.distplot(ft_byMnth_Yr[ft_byMnth_Yr.YEAR == 2016].FATALS, bins = 3, ax = ax, hist = False, rug = True, label = \"2016\")\n",
    "sns.distplot(ft_byMnth_Yr[ft_byMnth_Yr.YEAR == 2017].FATALS, bins = 3, ax = ax, hist = False, rug = True, label = \"2017\")\n",
    "\n",
    "plt.legend(loc = \"best\")\n",
    "plt.tight_layout()\n",
    "plt.savefig(os.path.join(images_dir, \"Fatality_Monthly_dist.png\"))"
   ]
  },
  {
   "cell_type": "code",
   "execution_count": null,
   "metadata": {},
   "outputs": [],
   "source": [
    "with sns.color_palette(n_colors = 3):\n",
    "    fig, axs = plt.subplots(1, 3, figsize = (20, 7))\n",
    "    sns.regplot(x = 'MONTH', y= 'FATALS', data = ft_byMnth_Yr[ft_byMnth_Yr.YEAR == 2015], ax = axs[0], color = '#0098BF')\n",
    "    sns.regplot(x = 'MONTH', y= 'FATALS', data = ft_byMnth_Yr[ft_byMnth_Yr.YEAR == 2016], ax = axs[1], color = '#99CC00')\n",
    "    sns.regplot(x = 'MONTH', y= 'FATALS', data = ft_byMnth_Yr[ft_byMnth_Yr.YEAR == 2017], ax = axs[2], color = '#FF9900')\n",
    "    \n",
    "#     axs[0].set(xlabel='Atmospheric CO2 (ppm)', ylabel='Avg. Temperature (Deg C)')\n",
    "#     axs[1].set(xlabel='Atmospheric Aerosol (per cubic cm)', ylabel='')\n",
    "#     axs[2].set(xlabel='Total Solar Irradiance (watt per sq. m)', ylabel='')\n",
    "    \n",
    "\n",
    "plt.show()"
   ]
  },
  {
   "cell_type": "code",
   "execution_count": null,
   "metadata": {},
   "outputs": [],
   "source": [
    "# Calculate Fatal accidents by month-year\n",
    "ft_byWeek = accident_DF[[\"ACC_WEEK_NUM\",\"FATALS\"]].groupby([\"ACC_WEEK_NUM\"]).agg(np.sum)\n",
    "ft_byWeek.reset_index(inplace = True)\n",
    "ft_byWeek.head()"
   ]
  },
  {
   "cell_type": "code",
   "execution_count": null,
   "metadata": {},
   "outputs": [],
   "source": [
    "sns.regplot(x = \"ACC_WEEK_NUM\", y = \"FATALS\", data = ft_byWeek)"
   ]
  },
  {
   "cell_type": "code",
   "execution_count": null,
   "metadata": {},
   "outputs": [],
   "source": [
    "sns.distplot( ft_byWeek.FATALS, bins = 7)"
   ]
  },
  {
   "cell_type": "code",
   "execution_count": null,
   "metadata": {},
   "outputs": [],
   "source": [
    "ft_var_week = variance(ft_byWeek.FATALS)\n",
    "print(f\"variance is {ft_var_week}\")\n",
    "\n",
    "ft_sd_week = standard_deviation(ft_byWeek.FATALS)\n",
    "print(f\"STD DEV is {ft_sd_week}\")\n"
   ]
  },
  {
   "cell_type": "code",
   "execution_count": null,
   "metadata": {},
   "outputs": [],
   "source": [
    "#Calc Std Dev, Variance"
   ]
  },
  {
   "cell_type": "code",
   "execution_count": null,
   "metadata": {},
   "outputs": [],
   "source": []
  }
 ],
 "metadata": {
  "kernelspec": {
   "display_name": "Python 3",
   "language": "python",
   "name": "python3"
  },
  "language_info": {
   "codemirror_mode": {
    "name": "ipython",
    "version": 3
   },
   "file_extension": ".py",
   "mimetype": "text/x-python",
   "name": "python",
   "nbconvert_exporter": "python",
   "pygments_lexer": "ipython3",
   "version": "3.7.0"
  }
 },
 "nbformat": 4,
 "nbformat_minor": 2
}
